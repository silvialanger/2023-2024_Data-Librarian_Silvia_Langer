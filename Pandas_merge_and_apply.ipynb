{
 "cells": [
  {
   "cell_type": "code",
   "execution_count": 1,
   "id": "177fa532",
   "metadata": {},
   "outputs": [],
   "source": [
    "import pandas as pd"
   ]
  },
  {
   "cell_type": "code",
   "execution_count": 2,
   "id": "af2a2121",
   "metadata": {},
   "outputs": [],
   "source": [
    "doi_df_journal = pd.DataFrame({\n",
    "    \"DOI\": [\n",
    "        \"10.1371/journal.pcbi.1004668\",\n",
    "        \"10.21105/joss.01035\",\n",
    "        \"10.12688/f1000research.18866.2\",\n",
    "        \"10.1038/s41598-019-52881-4\",\n",
    "        \"10.1186/s12859-019-3171-0\"],\n",
    "    \"journal\": [\n",
    "        \"PLoS Comput Biol\",\n",
    "        \"JOSS\",\n",
    "        \"F1000Res\",\n",
    "        \"Sci Rep\",\n",
    "        \"BMC Bioinformatics\"]})\n",
    "\n",
    "doi_df_first_author = pd.DataFrame({\n",
    "    \"DOI\": [\n",
    "        \"10.1371/journal.pcbi.1004668\",\n",
    "        \"10.21105/joss.01035\",\n",
    "        \"10.21105/joss.01006\",\n",
    "        \"10.12688/f1000research.18866.2\",\n",
    "        \"10.1186/s12859-019-3171-0\"],\n",
    "    \"first_author\": [\n",
    "        \"Blischak\",\n",
    "        \"Sparks\",\n",
    "        \"Granger\",\n",
    "        \"Thang\",\n",
    "        \"Chen\"]})"
   ]
  },
  {
   "cell_type": "code",
   "execution_count": 3,
   "id": "e9d3e059",
   "metadata": {},
   "outputs": [
    {
     "data": {
      "text/html": [
       "<div>\n",
       "<style scoped>\n",
       "    .dataframe tbody tr th:only-of-type {\n",
       "        vertical-align: middle;\n",
       "    }\n",
       "\n",
       "    .dataframe tbody tr th {\n",
       "        vertical-align: top;\n",
       "    }\n",
       "\n",
       "    .dataframe thead th {\n",
       "        text-align: right;\n",
       "    }\n",
       "</style>\n",
       "<table border=\"1\" class=\"dataframe\">\n",
       "  <thead>\n",
       "    <tr style=\"text-align: right;\">\n",
       "      <th></th>\n",
       "      <th>DOI</th>\n",
       "      <th>first_author</th>\n",
       "    </tr>\n",
       "  </thead>\n",
       "  <tbody>\n",
       "    <tr>\n",
       "      <th>0</th>\n",
       "      <td>10.1371/journal.pcbi.1004668</td>\n",
       "      <td>Blischak</td>\n",
       "    </tr>\n",
       "    <tr>\n",
       "      <th>1</th>\n",
       "      <td>10.21105/joss.01035</td>\n",
       "      <td>Sparks</td>\n",
       "    </tr>\n",
       "    <tr>\n",
       "      <th>2</th>\n",
       "      <td>10.21105/joss.01006</td>\n",
       "      <td>Granger</td>\n",
       "    </tr>\n",
       "    <tr>\n",
       "      <th>3</th>\n",
       "      <td>10.12688/f1000research.18866.2</td>\n",
       "      <td>Thang</td>\n",
       "    </tr>\n",
       "    <tr>\n",
       "      <th>4</th>\n",
       "      <td>10.1186/s12859-019-3171-0</td>\n",
       "      <td>Chen</td>\n",
       "    </tr>\n",
       "  </tbody>\n",
       "</table>\n",
       "</div>"
      ],
      "text/plain": [
       "                              DOI first_author\n",
       "0    10.1371/journal.pcbi.1004668     Blischak\n",
       "1             10.21105/joss.01035       Sparks\n",
       "2             10.21105/joss.01006      Granger\n",
       "3  10.12688/f1000research.18866.2        Thang\n",
       "4       10.1186/s12859-019-3171-0         Chen"
      ]
     },
     "execution_count": 3,
     "metadata": {},
     "output_type": "execute_result"
    }
   ],
   "source": [
    "doi_df_first_author"
   ]
  },
  {
   "cell_type": "code",
   "execution_count": 4,
   "id": "b5297e02",
   "metadata": {},
   "outputs": [
    {
     "data": {
      "text/html": [
       "<div>\n",
       "<style scoped>\n",
       "    .dataframe tbody tr th:only-of-type {\n",
       "        vertical-align: middle;\n",
       "    }\n",
       "\n",
       "    .dataframe tbody tr th {\n",
       "        vertical-align: top;\n",
       "    }\n",
       "\n",
       "    .dataframe thead th {\n",
       "        text-align: right;\n",
       "    }\n",
       "</style>\n",
       "<table border=\"1\" class=\"dataframe\">\n",
       "  <thead>\n",
       "    <tr style=\"text-align: right;\">\n",
       "      <th></th>\n",
       "      <th>DOI</th>\n",
       "      <th>journal</th>\n",
       "    </tr>\n",
       "  </thead>\n",
       "  <tbody>\n",
       "    <tr>\n",
       "      <th>0</th>\n",
       "      <td>10.1371/journal.pcbi.1004668</td>\n",
       "      <td>PLoS Comput Biol</td>\n",
       "    </tr>\n",
       "    <tr>\n",
       "      <th>1</th>\n",
       "      <td>10.21105/joss.01035</td>\n",
       "      <td>JOSS</td>\n",
       "    </tr>\n",
       "    <tr>\n",
       "      <th>2</th>\n",
       "      <td>10.12688/f1000research.18866.2</td>\n",
       "      <td>F1000Res</td>\n",
       "    </tr>\n",
       "    <tr>\n",
       "      <th>3</th>\n",
       "      <td>10.1038/s41598-019-52881-4</td>\n",
       "      <td>Sci Rep</td>\n",
       "    </tr>\n",
       "    <tr>\n",
       "      <th>4</th>\n",
       "      <td>10.1186/s12859-019-3171-0</td>\n",
       "      <td>BMC Bioinformatics</td>\n",
       "    </tr>\n",
       "  </tbody>\n",
       "</table>\n",
       "</div>"
      ],
      "text/plain": [
       "                              DOI             journal\n",
       "0    10.1371/journal.pcbi.1004668    PLoS Comput Biol\n",
       "1             10.21105/joss.01035                JOSS\n",
       "2  10.12688/f1000research.18866.2            F1000Res\n",
       "3      10.1038/s41598-019-52881-4             Sci Rep\n",
       "4       10.1186/s12859-019-3171-0  BMC Bioinformatics"
      ]
     },
     "execution_count": 4,
     "metadata": {},
     "output_type": "execute_result"
    }
   ],
   "source": [
    "doi_df_journal"
   ]
  },
  {
   "cell_type": "markdown",
   "id": "dbc67e4a",
   "metadata": {},
   "source": [
    "## Inner join (merge)"
   ]
  },
  {
   "cell_type": "code",
   "execution_count": 5,
   "id": "3b0d07e1",
   "metadata": {},
   "outputs": [
    {
     "data": {
      "text/html": [
       "<div>\n",
       "<style scoped>\n",
       "    .dataframe tbody tr th:only-of-type {\n",
       "        vertical-align: middle;\n",
       "    }\n",
       "\n",
       "    .dataframe tbody tr th {\n",
       "        vertical-align: top;\n",
       "    }\n",
       "\n",
       "    .dataframe thead th {\n",
       "        text-align: right;\n",
       "    }\n",
       "</style>\n",
       "<table border=\"1\" class=\"dataframe\">\n",
       "  <thead>\n",
       "    <tr style=\"text-align: right;\">\n",
       "      <th></th>\n",
       "      <th>DOI</th>\n",
       "      <th>first_author</th>\n",
       "      <th>journal</th>\n",
       "    </tr>\n",
       "  </thead>\n",
       "  <tbody>\n",
       "    <tr>\n",
       "      <th>0</th>\n",
       "      <td>10.1371/journal.pcbi.1004668</td>\n",
       "      <td>Blischak</td>\n",
       "      <td>PLoS Comput Biol</td>\n",
       "    </tr>\n",
       "    <tr>\n",
       "      <th>1</th>\n",
       "      <td>10.21105/joss.01035</td>\n",
       "      <td>Sparks</td>\n",
       "      <td>JOSS</td>\n",
       "    </tr>\n",
       "    <tr>\n",
       "      <th>2</th>\n",
       "      <td>10.12688/f1000research.18866.2</td>\n",
       "      <td>Thang</td>\n",
       "      <td>F1000Res</td>\n",
       "    </tr>\n",
       "    <tr>\n",
       "      <th>3</th>\n",
       "      <td>10.1186/s12859-019-3171-0</td>\n",
       "      <td>Chen</td>\n",
       "      <td>BMC Bioinformatics</td>\n",
       "    </tr>\n",
       "  </tbody>\n",
       "</table>\n",
       "</div>"
      ],
      "text/plain": [
       "                              DOI first_author             journal\n",
       "0    10.1371/journal.pcbi.1004668     Blischak    PLoS Comput Biol\n",
       "1             10.21105/joss.01035       Sparks                JOSS\n",
       "2  10.12688/f1000research.18866.2        Thang            F1000Res\n",
       "3       10.1186/s12859-019-3171-0         Chen  BMC Bioinformatics"
      ]
     },
     "execution_count": 5,
     "metadata": {},
     "output_type": "execute_result"
    }
   ],
   "source": [
    "doi_df_first_author.merge(doi_df_journal, on=\"DOI\")"
   ]
  },
  {
   "cell_type": "markdown",
   "id": "e1b08499",
   "metadata": {},
   "source": [
    "## Left join (merge)"
   ]
  },
  {
   "cell_type": "code",
   "execution_count": 6,
   "id": "2d8aacbb",
   "metadata": {},
   "outputs": [
    {
     "data": {
      "text/html": [
       "<div>\n",
       "<style scoped>\n",
       "    .dataframe tbody tr th:only-of-type {\n",
       "        vertical-align: middle;\n",
       "    }\n",
       "\n",
       "    .dataframe tbody tr th {\n",
       "        vertical-align: top;\n",
       "    }\n",
       "\n",
       "    .dataframe thead th {\n",
       "        text-align: right;\n",
       "    }\n",
       "</style>\n",
       "<table border=\"1\" class=\"dataframe\">\n",
       "  <thead>\n",
       "    <tr style=\"text-align: right;\">\n",
       "      <th></th>\n",
       "      <th>DOI</th>\n",
       "      <th>first_author</th>\n",
       "      <th>journal</th>\n",
       "    </tr>\n",
       "  </thead>\n",
       "  <tbody>\n",
       "    <tr>\n",
       "      <th>0</th>\n",
       "      <td>10.1371/journal.pcbi.1004668</td>\n",
       "      <td>Blischak</td>\n",
       "      <td>PLoS Comput Biol</td>\n",
       "    </tr>\n",
       "    <tr>\n",
       "      <th>1</th>\n",
       "      <td>10.21105/joss.01035</td>\n",
       "      <td>Sparks</td>\n",
       "      <td>JOSS</td>\n",
       "    </tr>\n",
       "    <tr>\n",
       "      <th>2</th>\n",
       "      <td>10.21105/joss.01006</td>\n",
       "      <td>Granger</td>\n",
       "      <td>NaN</td>\n",
       "    </tr>\n",
       "    <tr>\n",
       "      <th>3</th>\n",
       "      <td>10.12688/f1000research.18866.2</td>\n",
       "      <td>Thang</td>\n",
       "      <td>F1000Res</td>\n",
       "    </tr>\n",
       "    <tr>\n",
       "      <th>4</th>\n",
       "      <td>10.1186/s12859-019-3171-0</td>\n",
       "      <td>Chen</td>\n",
       "      <td>BMC Bioinformatics</td>\n",
       "    </tr>\n",
       "  </tbody>\n",
       "</table>\n",
       "</div>"
      ],
      "text/plain": [
       "                              DOI first_author             journal\n",
       "0    10.1371/journal.pcbi.1004668     Blischak    PLoS Comput Biol\n",
       "1             10.21105/joss.01035       Sparks                JOSS\n",
       "2             10.21105/joss.01006      Granger                 NaN\n",
       "3  10.12688/f1000research.18866.2        Thang            F1000Res\n",
       "4       10.1186/s12859-019-3171-0         Chen  BMC Bioinformatics"
      ]
     },
     "execution_count": 6,
     "metadata": {},
     "output_type": "execute_result"
    }
   ],
   "source": [
    "doi_df_first_author.merge(doi_df_journal, on=\"DOI\", how=\"left\")"
   ]
  },
  {
   "cell_type": "code",
   "execution_count": 7,
   "id": "0dfd6dd1",
   "metadata": {},
   "outputs": [],
   "source": [
    "# NaN bedeutet Platzhalter"
   ]
  },
  {
   "cell_type": "markdown",
   "id": "4d4897b9",
   "metadata": {},
   "source": [
    "## Right join (merge)"
   ]
  },
  {
   "cell_type": "code",
   "execution_count": 8,
   "id": "218d639f",
   "metadata": {},
   "outputs": [
    {
     "data": {
      "text/html": [
       "<div>\n",
       "<style scoped>\n",
       "    .dataframe tbody tr th:only-of-type {\n",
       "        vertical-align: middle;\n",
       "    }\n",
       "\n",
       "    .dataframe tbody tr th {\n",
       "        vertical-align: top;\n",
       "    }\n",
       "\n",
       "    .dataframe thead th {\n",
       "        text-align: right;\n",
       "    }\n",
       "</style>\n",
       "<table border=\"1\" class=\"dataframe\">\n",
       "  <thead>\n",
       "    <tr style=\"text-align: right;\">\n",
       "      <th></th>\n",
       "      <th>DOI</th>\n",
       "      <th>first_author</th>\n",
       "      <th>journal</th>\n",
       "    </tr>\n",
       "  </thead>\n",
       "  <tbody>\n",
       "    <tr>\n",
       "      <th>0</th>\n",
       "      <td>10.1371/journal.pcbi.1004668</td>\n",
       "      <td>Blischak</td>\n",
       "      <td>PLoS Comput Biol</td>\n",
       "    </tr>\n",
       "    <tr>\n",
       "      <th>1</th>\n",
       "      <td>10.21105/joss.01035</td>\n",
       "      <td>Sparks</td>\n",
       "      <td>JOSS</td>\n",
       "    </tr>\n",
       "    <tr>\n",
       "      <th>2</th>\n",
       "      <td>10.12688/f1000research.18866.2</td>\n",
       "      <td>Thang</td>\n",
       "      <td>F1000Res</td>\n",
       "    </tr>\n",
       "    <tr>\n",
       "      <th>3</th>\n",
       "      <td>10.1038/s41598-019-52881-4</td>\n",
       "      <td>NaN</td>\n",
       "      <td>Sci Rep</td>\n",
       "    </tr>\n",
       "    <tr>\n",
       "      <th>4</th>\n",
       "      <td>10.1186/s12859-019-3171-0</td>\n",
       "      <td>Chen</td>\n",
       "      <td>BMC Bioinformatics</td>\n",
       "    </tr>\n",
       "  </tbody>\n",
       "</table>\n",
       "</div>"
      ],
      "text/plain": [
       "                              DOI first_author             journal\n",
       "0    10.1371/journal.pcbi.1004668     Blischak    PLoS Comput Biol\n",
       "1             10.21105/joss.01035       Sparks                JOSS\n",
       "2  10.12688/f1000research.18866.2        Thang            F1000Res\n",
       "3      10.1038/s41598-019-52881-4          NaN             Sci Rep\n",
       "4       10.1186/s12859-019-3171-0         Chen  BMC Bioinformatics"
      ]
     },
     "execution_count": 8,
     "metadata": {},
     "output_type": "execute_result"
    }
   ],
   "source": [
    "doi_df_first_author.merge(doi_df_journal, on=\"DOI\", how=\"right\")"
   ]
  },
  {
   "cell_type": "markdown",
   "id": "24661a9a",
   "metadata": {},
   "source": [
    "## Outer join (merge)"
   ]
  },
  {
   "cell_type": "code",
   "execution_count": 9,
   "id": "0fc03934",
   "metadata": {},
   "outputs": [
    {
     "data": {
      "text/html": [
       "<div>\n",
       "<style scoped>\n",
       "    .dataframe tbody tr th:only-of-type {\n",
       "        vertical-align: middle;\n",
       "    }\n",
       "\n",
       "    .dataframe tbody tr th {\n",
       "        vertical-align: top;\n",
       "    }\n",
       "\n",
       "    .dataframe thead th {\n",
       "        text-align: right;\n",
       "    }\n",
       "</style>\n",
       "<table border=\"1\" class=\"dataframe\">\n",
       "  <thead>\n",
       "    <tr style=\"text-align: right;\">\n",
       "      <th></th>\n",
       "      <th>DOI</th>\n",
       "      <th>first_author</th>\n",
       "      <th>journal</th>\n",
       "    </tr>\n",
       "  </thead>\n",
       "  <tbody>\n",
       "    <tr>\n",
       "      <th>0</th>\n",
       "      <td>10.1371/journal.pcbi.1004668</td>\n",
       "      <td>Blischak</td>\n",
       "      <td>PLoS Comput Biol</td>\n",
       "    </tr>\n",
       "    <tr>\n",
       "      <th>1</th>\n",
       "      <td>10.21105/joss.01035</td>\n",
       "      <td>Sparks</td>\n",
       "      <td>JOSS</td>\n",
       "    </tr>\n",
       "    <tr>\n",
       "      <th>2</th>\n",
       "      <td>10.21105/joss.01006</td>\n",
       "      <td>Granger</td>\n",
       "      <td>NaN</td>\n",
       "    </tr>\n",
       "    <tr>\n",
       "      <th>3</th>\n",
       "      <td>10.12688/f1000research.18866.2</td>\n",
       "      <td>Thang</td>\n",
       "      <td>F1000Res</td>\n",
       "    </tr>\n",
       "    <tr>\n",
       "      <th>4</th>\n",
       "      <td>10.1186/s12859-019-3171-0</td>\n",
       "      <td>Chen</td>\n",
       "      <td>BMC Bioinformatics</td>\n",
       "    </tr>\n",
       "    <tr>\n",
       "      <th>5</th>\n",
       "      <td>10.1038/s41598-019-52881-4</td>\n",
       "      <td>NaN</td>\n",
       "      <td>Sci Rep</td>\n",
       "    </tr>\n",
       "  </tbody>\n",
       "</table>\n",
       "</div>"
      ],
      "text/plain": [
       "                              DOI first_author             journal\n",
       "0    10.1371/journal.pcbi.1004668     Blischak    PLoS Comput Biol\n",
       "1             10.21105/joss.01035       Sparks                JOSS\n",
       "2             10.21105/joss.01006      Granger                 NaN\n",
       "3  10.12688/f1000research.18866.2        Thang            F1000Res\n",
       "4       10.1186/s12859-019-3171-0         Chen  BMC Bioinformatics\n",
       "5      10.1038/s41598-019-52881-4          NaN             Sci Rep"
      ]
     },
     "execution_count": 9,
     "metadata": {},
     "output_type": "execute_result"
    }
   ],
   "source": [
    "doi_df_first_author.merge(doi_df_journal, on=\"DOI\", how=\"outer\")"
   ]
  },
  {
   "cell_type": "markdown",
   "id": "a2d9b5f8",
   "metadata": {},
   "source": [
    "## Wenn auf Spalten mit verschiedenen Namen gemerget werden soll"
   ]
  },
  {
   "cell_type": "code",
   "execution_count": 10,
   "id": "aae6e2e7",
   "metadata": {},
   "outputs": [],
   "source": [
    "doi_df_journal = pd.DataFrame({\n",
    "    \"article_doi\": [\n",
    "        \"10.1371/journal.pcbi.1004668\",\n",
    "        \"10.21105/joss.01035\",\n",
    "        \"10.12688/f1000research.18866.2\",\n",
    "        \"10.1038/s41598-019-52881-4\",\n",
    "        \"10.1186/s12859-019-3171-0\"],\n",
    "    \"journal\": [\n",
    "        \"PLoS Comput Biol\",\n",
    "        \"JOSS\",\n",
    "        \"F1000Res\",\n",
    "        \"Sci Rep\",\n",
    "        \"BMC Bioinformatics\"]})\n",
    "\n",
    "doi_df_first_author = pd.DataFrame({\n",
    "    \"DOI\": [\n",
    "        \"10.1371/journal.pcbi.1004668\",\n",
    "        \"10.21105/joss.01035\",\n",
    "        \"10.21105/joss.01006\",\n",
    "        \"10.12688/f1000research.18866.2\",\n",
    "        \"10.1186/s12859-019-3171-0\"],\n",
    "    \"first_author\": [\n",
    "        \"Blischak\",\n",
    "        \"Sparks\",\n",
    "        \"Granger\",\n",
    "        \"Thang\",\n",
    "        \"Chen\"]})"
   ]
  },
  {
   "cell_type": "code",
   "execution_count": 11,
   "id": "5294962d",
   "metadata": {},
   "outputs": [
    {
     "data": {
      "text/html": [
       "<div>\n",
       "<style scoped>\n",
       "    .dataframe tbody tr th:only-of-type {\n",
       "        vertical-align: middle;\n",
       "    }\n",
       "\n",
       "    .dataframe tbody tr th {\n",
       "        vertical-align: top;\n",
       "    }\n",
       "\n",
       "    .dataframe thead th {\n",
       "        text-align: right;\n",
       "    }\n",
       "</style>\n",
       "<table border=\"1\" class=\"dataframe\">\n",
       "  <thead>\n",
       "    <tr style=\"text-align: right;\">\n",
       "      <th></th>\n",
       "      <th>DOI</th>\n",
       "      <th>first_author</th>\n",
       "      <th>article_doi</th>\n",
       "      <th>journal</th>\n",
       "    </tr>\n",
       "  </thead>\n",
       "  <tbody>\n",
       "    <tr>\n",
       "      <th>0</th>\n",
       "      <td>10.1371/journal.pcbi.1004668</td>\n",
       "      <td>Blischak</td>\n",
       "      <td>10.1371/journal.pcbi.1004668</td>\n",
       "      <td>PLoS Comput Biol</td>\n",
       "    </tr>\n",
       "    <tr>\n",
       "      <th>1</th>\n",
       "      <td>10.21105/joss.01035</td>\n",
       "      <td>Sparks</td>\n",
       "      <td>10.21105/joss.01035</td>\n",
       "      <td>JOSS</td>\n",
       "    </tr>\n",
       "    <tr>\n",
       "      <th>2</th>\n",
       "      <td>10.12688/f1000research.18866.2</td>\n",
       "      <td>Thang</td>\n",
       "      <td>10.12688/f1000research.18866.2</td>\n",
       "      <td>F1000Res</td>\n",
       "    </tr>\n",
       "    <tr>\n",
       "      <th>3</th>\n",
       "      <td>10.1186/s12859-019-3171-0</td>\n",
       "      <td>Chen</td>\n",
       "      <td>10.1186/s12859-019-3171-0</td>\n",
       "      <td>BMC Bioinformatics</td>\n",
       "    </tr>\n",
       "  </tbody>\n",
       "</table>\n",
       "</div>"
      ],
      "text/plain": [
       "                              DOI first_author  \\\n",
       "0    10.1371/journal.pcbi.1004668     Blischak   \n",
       "1             10.21105/joss.01035       Sparks   \n",
       "2  10.12688/f1000research.18866.2        Thang   \n",
       "3       10.1186/s12859-019-3171-0         Chen   \n",
       "\n",
       "                      article_doi             journal  \n",
       "0    10.1371/journal.pcbi.1004668    PLoS Comput Biol  \n",
       "1             10.21105/joss.01035                JOSS  \n",
       "2  10.12688/f1000research.18866.2            F1000Res  \n",
       "3       10.1186/s12859-019-3171-0  BMC Bioinformatics  "
      ]
     },
     "execution_count": 11,
     "metadata": {},
     "output_type": "execute_result"
    }
   ],
   "source": [
    "doi_df_first_author.merge(doi_df_journal, left_on=\"DOI\", right_on=\"article_doi\", how=\"inner\")"
   ]
  },
  {
   "cell_type": "markdown",
   "id": "dcc13f66",
   "metadata": {},
   "source": [
    "## Apply"
   ]
  },
  {
   "cell_type": "code",
   "execution_count": 12,
   "id": "3463e738",
   "metadata": {},
   "outputs": [],
   "source": [
    "doi_df_first_author_2 = pd.DataFrame({\n",
    "    \"DOIs\": [\n",
    "        \"10.1371/journal.pcbi.1004668\",\n",
    "        \"10.21105/joss.01035\",\n",
    "        \"10.21105/joss.01006\",\n",
    "        \"10.12688/f1000research.18866.2\",\n",
    "        \"10.1186/s12859-019-3171-0\"],\n",
    "    \"first_author\": [\n",
    "        \"Blischak J.\",\n",
    "        \"Sparks Adam H.\",\n",
    "        \"Granger Nicolas\",\n",
    "        \"Thang\",\n",
    "        \"Chen Danze\"]})"
   ]
  },
  {
   "cell_type": "code",
   "execution_count": 13,
   "id": "e56d1193",
   "metadata": {},
   "outputs": [
    {
     "data": {
      "text/html": [
       "<div>\n",
       "<style scoped>\n",
       "    .dataframe tbody tr th:only-of-type {\n",
       "        vertical-align: middle;\n",
       "    }\n",
       "\n",
       "    .dataframe tbody tr th {\n",
       "        vertical-align: top;\n",
       "    }\n",
       "\n",
       "    .dataframe thead th {\n",
       "        text-align: right;\n",
       "    }\n",
       "</style>\n",
       "<table border=\"1\" class=\"dataframe\">\n",
       "  <thead>\n",
       "    <tr style=\"text-align: right;\">\n",
       "      <th></th>\n",
       "      <th>DOIs</th>\n",
       "      <th>first_author</th>\n",
       "    </tr>\n",
       "  </thead>\n",
       "  <tbody>\n",
       "    <tr>\n",
       "      <th>0</th>\n",
       "      <td>10.1371/journal.pcbi.1004668</td>\n",
       "      <td>Blischak J.</td>\n",
       "    </tr>\n",
       "    <tr>\n",
       "      <th>1</th>\n",
       "      <td>10.21105/joss.01035</td>\n",
       "      <td>Sparks Adam H.</td>\n",
       "    </tr>\n",
       "    <tr>\n",
       "      <th>2</th>\n",
       "      <td>10.21105/joss.01006</td>\n",
       "      <td>Granger Nicolas</td>\n",
       "    </tr>\n",
       "    <tr>\n",
       "      <th>3</th>\n",
       "      <td>10.12688/f1000research.18866.2</td>\n",
       "      <td>Thang</td>\n",
       "    </tr>\n",
       "    <tr>\n",
       "      <th>4</th>\n",
       "      <td>10.1186/s12859-019-3171-0</td>\n",
       "      <td>Chen Danze</td>\n",
       "    </tr>\n",
       "  </tbody>\n",
       "</table>\n",
       "</div>"
      ],
      "text/plain": [
       "                             DOIs     first_author\n",
       "0    10.1371/journal.pcbi.1004668      Blischak J.\n",
       "1             10.21105/joss.01035   Sparks Adam H.\n",
       "2             10.21105/joss.01006  Granger Nicolas\n",
       "3  10.12688/f1000research.18866.2            Thang\n",
       "4       10.1186/s12859-019-3171-0       Chen Danze"
      ]
     },
     "execution_count": 13,
     "metadata": {},
     "output_type": "execute_result"
    }
   ],
   "source": [
    "# Unsaubere Daten, weil nicht nur Nachname\n",
    "doi_df_first_author_2"
   ]
  },
  {
   "cell_type": "code",
   "execution_count": 14,
   "id": "1740a4b0",
   "metadata": {},
   "outputs": [
    {
     "data": {
      "text/plain": [
       "['Rosalind', 'Franklin']"
      ]
     },
     "execution_count": 14,
     "metadata": {},
     "output_type": "execute_result"
    }
   ],
   "source": [
    "\"Rosalind Franklin\".split(\" \")"
   ]
  },
  {
   "cell_type": "code",
   "execution_count": 15,
   "id": "92080f99",
   "metadata": {},
   "outputs": [
    {
     "data": {
      "text/plain": [
       "'Franklin'"
      ]
     },
     "execution_count": 15,
     "metadata": {},
     "output_type": "execute_result"
    }
   ],
   "source": [
    "\"Rosalind Franklin\".split(\" \")[1]"
   ]
  },
  {
   "cell_type": "code",
   "execution_count": 16,
   "id": "d1b14b8e",
   "metadata": {},
   "outputs": [
    {
     "data": {
      "text/plain": [
       "0    Blischak\n",
       "1      Sparks\n",
       "2     Granger\n",
       "3       Thang\n",
       "4        Chen\n",
       "Name: first_author, dtype: object"
      ]
     },
     "execution_count": 16,
     "metadata": {},
     "output_type": "execute_result"
    }
   ],
   "source": [
    "doi_df_first_author_2[\"first_author\"].apply(lambda author: author.split(\" \")[0])"
   ]
  },
  {
   "cell_type": "code",
   "execution_count": 17,
   "id": "af667e14",
   "metadata": {},
   "outputs": [],
   "source": [
    "doi_df_first_author_2[\"last_name\"] = doi_df_first_author_2[\"first_author\"].apply(lambda author: author.split(\" \")[0])"
   ]
  },
  {
   "cell_type": "code",
   "execution_count": 18,
   "id": "63e9e7bd",
   "metadata": {},
   "outputs": [
    {
     "data": {
      "text/html": [
       "<div>\n",
       "<style scoped>\n",
       "    .dataframe tbody tr th:only-of-type {\n",
       "        vertical-align: middle;\n",
       "    }\n",
       "\n",
       "    .dataframe tbody tr th {\n",
       "        vertical-align: top;\n",
       "    }\n",
       "\n",
       "    .dataframe thead th {\n",
       "        text-align: right;\n",
       "    }\n",
       "</style>\n",
       "<table border=\"1\" class=\"dataframe\">\n",
       "  <thead>\n",
       "    <tr style=\"text-align: right;\">\n",
       "      <th></th>\n",
       "      <th>DOIs</th>\n",
       "      <th>first_author</th>\n",
       "      <th>last_name</th>\n",
       "    </tr>\n",
       "  </thead>\n",
       "  <tbody>\n",
       "    <tr>\n",
       "      <th>0</th>\n",
       "      <td>10.1371/journal.pcbi.1004668</td>\n",
       "      <td>Blischak J.</td>\n",
       "      <td>Blischak</td>\n",
       "    </tr>\n",
       "    <tr>\n",
       "      <th>1</th>\n",
       "      <td>10.21105/joss.01035</td>\n",
       "      <td>Sparks Adam H.</td>\n",
       "      <td>Sparks</td>\n",
       "    </tr>\n",
       "    <tr>\n",
       "      <th>2</th>\n",
       "      <td>10.21105/joss.01006</td>\n",
       "      <td>Granger Nicolas</td>\n",
       "      <td>Granger</td>\n",
       "    </tr>\n",
       "    <tr>\n",
       "      <th>3</th>\n",
       "      <td>10.12688/f1000research.18866.2</td>\n",
       "      <td>Thang</td>\n",
       "      <td>Thang</td>\n",
       "    </tr>\n",
       "    <tr>\n",
       "      <th>4</th>\n",
       "      <td>10.1186/s12859-019-3171-0</td>\n",
       "      <td>Chen Danze</td>\n",
       "      <td>Chen</td>\n",
       "    </tr>\n",
       "  </tbody>\n",
       "</table>\n",
       "</div>"
      ],
      "text/plain": [
       "                             DOIs     first_author last_name\n",
       "0    10.1371/journal.pcbi.1004668      Blischak J.  Blischak\n",
       "1             10.21105/joss.01035   Sparks Adam H.    Sparks\n",
       "2             10.21105/joss.01006  Granger Nicolas   Granger\n",
       "3  10.12688/f1000research.18866.2            Thang     Thang\n",
       "4       10.1186/s12859-019-3171-0       Chen Danze      Chen"
      ]
     },
     "execution_count": 18,
     "metadata": {},
     "output_type": "execute_result"
    }
   ],
   "source": [
    "doi_df_first_author_2"
   ]
  },
  {
   "cell_type": "code",
   "execution_count": 19,
   "id": "1480e7c9",
   "metadata": {},
   "outputs": [
    {
     "data": {
      "text/plain": [
       "0          [J.]\n",
       "1    [Adam, H.]\n",
       "2     [Nicolas]\n",
       "3            []\n",
       "4       [Danze]\n",
       "Name: first_author, dtype: object"
      ]
     },
     "execution_count": 19,
     "metadata": {},
     "output_type": "execute_result"
    }
   ],
   "source": [
    "doi_df_first_author_2[\"first_author\"].apply(lambda author: author.split(\" \")[1:])"
   ]
  },
  {
   "cell_type": "code",
   "execution_count": 20,
   "id": "b1d2eee0",
   "metadata": {},
   "outputs": [
    {
     "data": {
      "text/plain": [
       "['Adam', 'H.']"
      ]
     },
     "execution_count": 20,
     "metadata": {},
     "output_type": "execute_result"
    }
   ],
   "source": [
    "\"Sparks Adam H.\".split(\" \")[1:]"
   ]
  },
  {
   "cell_type": "code",
   "execution_count": 21,
   "id": "c33d0700",
   "metadata": {},
   "outputs": [
    {
     "data": {
      "text/plain": [
       "'Adam H.'"
      ]
     },
     "execution_count": 21,
     "metadata": {},
     "output_type": "execute_result"
    }
   ],
   "source": [
    "\" \".join(['Adam', 'H.'])"
   ]
  },
  {
   "cell_type": "code",
   "execution_count": 22,
   "id": "582b68da",
   "metadata": {},
   "outputs": [
    {
     "data": {
      "text/plain": [
       "0         J.\n",
       "1    Adam H.\n",
       "2    Nicolas\n",
       "3           \n",
       "4      Danze\n",
       "Name: first_author, dtype: object"
      ]
     },
     "execution_count": 22,
     "metadata": {},
     "output_type": "execute_result"
    }
   ],
   "source": [
    "doi_df_first_author_2[\"first_author\"].apply(lambda author: \" \".join(author.split(\" \")[1:]))"
   ]
  },
  {
   "cell_type": "code",
   "execution_count": 23,
   "id": "7579ecd0",
   "metadata": {},
   "outputs": [],
   "source": [
    "doi_df_first_author_2[\"first_name\"] = doi_df_first_author_2[\"first_author\"].apply(lambda author: \" \".join(author.split(\" \")[1:]))"
   ]
  },
  {
   "cell_type": "code",
   "execution_count": 24,
   "id": "3d73b2e8",
   "metadata": {},
   "outputs": [
    {
     "data": {
      "text/html": [
       "<div>\n",
       "<style scoped>\n",
       "    .dataframe tbody tr th:only-of-type {\n",
       "        vertical-align: middle;\n",
       "    }\n",
       "\n",
       "    .dataframe tbody tr th {\n",
       "        vertical-align: top;\n",
       "    }\n",
       "\n",
       "    .dataframe thead th {\n",
       "        text-align: right;\n",
       "    }\n",
       "</style>\n",
       "<table border=\"1\" class=\"dataframe\">\n",
       "  <thead>\n",
       "    <tr style=\"text-align: right;\">\n",
       "      <th></th>\n",
       "      <th>DOIs</th>\n",
       "      <th>first_author</th>\n",
       "      <th>last_name</th>\n",
       "      <th>first_name</th>\n",
       "    </tr>\n",
       "  </thead>\n",
       "  <tbody>\n",
       "    <tr>\n",
       "      <th>0</th>\n",
       "      <td>10.1371/journal.pcbi.1004668</td>\n",
       "      <td>Blischak J.</td>\n",
       "      <td>Blischak</td>\n",
       "      <td>J.</td>\n",
       "    </tr>\n",
       "    <tr>\n",
       "      <th>1</th>\n",
       "      <td>10.21105/joss.01035</td>\n",
       "      <td>Sparks Adam H.</td>\n",
       "      <td>Sparks</td>\n",
       "      <td>Adam H.</td>\n",
       "    </tr>\n",
       "    <tr>\n",
       "      <th>2</th>\n",
       "      <td>10.21105/joss.01006</td>\n",
       "      <td>Granger Nicolas</td>\n",
       "      <td>Granger</td>\n",
       "      <td>Nicolas</td>\n",
       "    </tr>\n",
       "    <tr>\n",
       "      <th>3</th>\n",
       "      <td>10.12688/f1000research.18866.2</td>\n",
       "      <td>Thang</td>\n",
       "      <td>Thang</td>\n",
       "      <td></td>\n",
       "    </tr>\n",
       "    <tr>\n",
       "      <th>4</th>\n",
       "      <td>10.1186/s12859-019-3171-0</td>\n",
       "      <td>Chen Danze</td>\n",
       "      <td>Chen</td>\n",
       "      <td>Danze</td>\n",
       "    </tr>\n",
       "  </tbody>\n",
       "</table>\n",
       "</div>"
      ],
      "text/plain": [
       "                             DOIs     first_author last_name first_name\n",
       "0    10.1371/journal.pcbi.1004668      Blischak J.  Blischak         J.\n",
       "1             10.21105/joss.01035   Sparks Adam H.    Sparks    Adam H.\n",
       "2             10.21105/joss.01006  Granger Nicolas   Granger    Nicolas\n",
       "3  10.12688/f1000research.18866.2            Thang     Thang           \n",
       "4       10.1186/s12859-019-3171-0       Chen Danze      Chen      Danze"
      ]
     },
     "execution_count": 24,
     "metadata": {},
     "output_type": "execute_result"
    }
   ],
   "source": [
    "doi_df_first_author_2"
   ]
  },
  {
   "cell_type": "code",
   "execution_count": 25,
   "id": "949b0d16",
   "metadata": {},
   "outputs": [],
   "source": [
    "del doi_df_first_author_2[\"first_author\"]"
   ]
  },
  {
   "cell_type": "code",
   "execution_count": 26,
   "id": "d1c3e297",
   "metadata": {},
   "outputs": [
    {
     "data": {
      "text/html": [
       "<div>\n",
       "<style scoped>\n",
       "    .dataframe tbody tr th:only-of-type {\n",
       "        vertical-align: middle;\n",
       "    }\n",
       "\n",
       "    .dataframe tbody tr th {\n",
       "        vertical-align: top;\n",
       "    }\n",
       "\n",
       "    .dataframe thead th {\n",
       "        text-align: right;\n",
       "    }\n",
       "</style>\n",
       "<table border=\"1\" class=\"dataframe\">\n",
       "  <thead>\n",
       "    <tr style=\"text-align: right;\">\n",
       "      <th></th>\n",
       "      <th>DOIs</th>\n",
       "      <th>last_name</th>\n",
       "      <th>first_name</th>\n",
       "    </tr>\n",
       "  </thead>\n",
       "  <tbody>\n",
       "    <tr>\n",
       "      <th>0</th>\n",
       "      <td>10.1371/journal.pcbi.1004668</td>\n",
       "      <td>Blischak</td>\n",
       "      <td>J.</td>\n",
       "    </tr>\n",
       "    <tr>\n",
       "      <th>1</th>\n",
       "      <td>10.21105/joss.01035</td>\n",
       "      <td>Sparks</td>\n",
       "      <td>Adam H.</td>\n",
       "    </tr>\n",
       "    <tr>\n",
       "      <th>2</th>\n",
       "      <td>10.21105/joss.01006</td>\n",
       "      <td>Granger</td>\n",
       "      <td>Nicolas</td>\n",
       "    </tr>\n",
       "    <tr>\n",
       "      <th>3</th>\n",
       "      <td>10.12688/f1000research.18866.2</td>\n",
       "      <td>Thang</td>\n",
       "      <td></td>\n",
       "    </tr>\n",
       "    <tr>\n",
       "      <th>4</th>\n",
       "      <td>10.1186/s12859-019-3171-0</td>\n",
       "      <td>Chen</td>\n",
       "      <td>Danze</td>\n",
       "    </tr>\n",
       "  </tbody>\n",
       "</table>\n",
       "</div>"
      ],
      "text/plain": [
       "                             DOIs last_name first_name\n",
       "0    10.1371/journal.pcbi.1004668  Blischak         J.\n",
       "1             10.21105/joss.01035    Sparks    Adam H.\n",
       "2             10.21105/joss.01006   Granger    Nicolas\n",
       "3  10.12688/f1000research.18866.2     Thang           \n",
       "4       10.1186/s12859-019-3171-0      Chen      Danze"
      ]
     },
     "execution_count": 26,
     "metadata": {},
     "output_type": "execute_result"
    }
   ],
   "source": [
    "doi_df_first_author_2"
   ]
  },
  {
   "cell_type": "code",
   "execution_count": 27,
   "id": "85e60cf3",
   "metadata": {},
   "outputs": [],
   "source": [
    "doi_df_first_author_2.to_csv(\"doi_last_and_first_name.csv\")"
   ]
  },
  {
   "cell_type": "code",
   "execution_count": null,
   "id": "9c2d163e",
   "metadata": {},
   "outputs": [],
   "source": []
  }
 ],
 "metadata": {
  "kernelspec": {
   "display_name": "Python 3 (ipykernel)",
   "language": "python",
   "name": "python3"
  },
  "language_info": {
   "codemirror_mode": {
    "name": "ipython",
    "version": 3
   },
   "file_extension": ".py",
   "mimetype": "text/x-python",
   "name": "python",
   "nbconvert_exporter": "python",
   "pygments_lexer": "ipython3",
   "version": "3.11.5"
  }
 },
 "nbformat": 4,
 "nbformat_minor": 5
}
